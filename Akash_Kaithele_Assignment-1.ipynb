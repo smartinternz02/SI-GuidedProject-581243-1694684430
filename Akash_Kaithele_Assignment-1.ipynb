{
 "cells": [
  {
   "cell_type": "markdown",
   "id": "ccff1f43-d266-4a89-a03c-6847ffbfc295",
   "metadata": {},
   "source": [
    "# Task-1"
   ]
  },
  {
   "cell_type": "markdown",
   "id": "f3a58121-6ae4-44d4-a8e5-7a6c496dca13",
   "metadata": {},
   "source": [
    "### Create a pandas dataframe (DataFrame name as 'df') with numpy random values (4 features and 4 observation)"
   ]
  },
  {
   "cell_type": "code",
   "execution_count": 1,
   "id": "8d5e31d8-a487-45f5-b299-38002cbc2f74",
   "metadata": {},
   "outputs": [
    {
     "name": "stdout",
     "output_type": "stream",
     "text": [
      "         c1        c2        c3        c4\n",
      "0  1.764052  0.400157  0.978738  2.240893\n",
      "1  1.867558 -0.977278  0.950088 -0.151357\n",
      "2 -0.103219  0.410599  0.144044  1.454274\n",
      "3  0.761038  0.121675  0.443863  0.333674\n"
     ]
    }
   ],
   "source": [
    "import pandas as pd\n",
    "import numpy as np\n",
    "\n",
    "np.random.seed(0)\n",
    "\n",
    "data = np.random.randn(4, 4)\n",
    "\n",
    "df = pd.DataFrame(data, columns=['c1', 'c2', 'c3', 'c4'])\n",
    "\n",
    "print(df)\n"
   ]
  },
  {
   "cell_type": "markdown",
   "id": "61cda7e2-fe65-4663-a923-796183715c8f",
   "metadata": {},
   "source": [
    "# Task-2"
   ]
  },
  {
   "cell_type": "markdown",
   "id": "e3dc7ee9-663b-4d40-82cd-34dddbe87dd0",
   "metadata": {},
   "source": [
    "### Rename the task - 1 'df' dataframe column names to 'Random value 1', 'Random value 2', 'Random value 3' & 'Random value 4'"
   ]
  },
  {
   "cell_type": "code",
   "execution_count": 2,
   "id": "42e51da4-4998-44b8-8778-1f6d147143be",
   "metadata": {},
   "outputs": [
    {
     "name": "stdout",
     "output_type": "stream",
     "text": [
      "   Random value 1  Random value 2  Random value 3  Random value 4\n",
      "0        1.764052        0.400157        0.978738        2.240893\n",
      "1        1.867558       -0.977278        0.950088       -0.151357\n",
      "2       -0.103219        0.410599        0.144044        1.454274\n",
      "3        0.761038        0.121675        0.443863        0.333674\n"
     ]
    }
   ],
   "source": [
    "df.rename(columns={'c1': 'Random value 1', 'c2': 'Random value 2', 'c3': 'Random value 3', 'c4': 'Random value 4'}, inplace=True)\n",
    "print(df)\n",
    "\n"
   ]
  },
  {
   "cell_type": "markdown",
   "id": "553795c1-287f-443a-b33b-dd96ab2b4591",
   "metadata": {},
   "source": [
    "# Task-3"
   ]
  },
  {
   "cell_type": "markdown",
   "id": "aaafcb6b-659e-4830-b41e-c8ea1b0e0e01",
   "metadata": {},
   "source": [
    "### Find the descriptive statistics of the 'df' dataframe."
   ]
  },
  {
   "cell_type": "code",
   "execution_count": 3,
   "id": "49ccd0c9-1edc-4f9c-b66d-f5435b7a192a",
   "metadata": {},
   "outputs": [
    {
     "name": "stdout",
     "output_type": "stream",
     "text": [
      "       Random value 1  Random value 2  Random value 3  Random value 4\n",
      "count        4.000000        4.000000        4.000000        4.000000\n",
      "mean         1.072357       -0.011212        0.629183        0.969371\n",
      "std          0.929101        0.657797        0.406150        1.081980\n",
      "min         -0.103219       -0.977278        0.144044       -0.151357\n",
      "25%          0.544974       -0.153063        0.368908        0.212416\n",
      "50%          1.262545        0.260916        0.696976        0.893974\n",
      "75%          1.789929        0.402768        0.957251        1.650928\n",
      "max          1.867558        0.410599        0.978738        2.240893\n"
     ]
    }
   ],
   "source": [
    "df_statistics = df.describe()\n",
    "print(df_statistics)\n"
   ]
  },
  {
   "cell_type": "markdown",
   "id": "2ecc6c46-6858-4bf3-8a64-70927fdf6484",
   "metadata": {},
   "source": [
    "# Task-4"
   ]
  },
  {
   "cell_type": "markdown",
   "id": "b6cc25c0-79a7-4162-978f-5e53d43dfdde",
   "metadata": {},
   "source": [
    "### Check for the null values in 'df' and find the data type of the columns."
   ]
  },
  {
   "cell_type": "code",
   "execution_count": 4,
   "id": "b86c47cc-a1d1-4d66-9076-af884442b18a",
   "metadata": {},
   "outputs": [
    {
     "name": "stdout",
     "output_type": "stream",
     "text": [
      "Null Values:\n",
      "Random value 1    0\n",
      "Random value 2    0\n",
      "Random value 3    0\n",
      "Random value 4    0\n",
      "dtype: int64\n",
      "\n",
      "Data Types:\n",
      "Random value 1    float64\n",
      "Random value 2    float64\n",
      "Random value 3    float64\n",
      "Random value 4    float64\n",
      "dtype: object\n"
     ]
    }
   ],
   "source": [
    "\n",
    "null_values = df.isnull().sum()\n",
    "data_types = df.dtypes\n",
    "print(\"Null Values:\")\n",
    "print(null_values)\n",
    "print(\"\\nData Types:\")\n",
    "print(data_types)\n"
   ]
  },
  {
   "cell_type": "markdown",
   "id": "094f9da3-3ea9-4fbc-a5c4-843039a6f827",
   "metadata": {},
   "source": [
    "# Task-5"
   ]
  },
  {
   "cell_type": "markdown",
   "id": "8320fe67-0908-4cfa-b77f-500ae951ce1c",
   "metadata": {},
   "source": [
    "### Display the 'Random value 2' & 'Random value 3' columns with location method and index location method"
   ]
  },
  {
   "cell_type": "code",
   "execution_count": 5,
   "id": "4d7fab19-7c4e-4da4-bb55-3fe23d080e9e",
   "metadata": {},
   "outputs": [
    {
     "name": "stdout",
     "output_type": "stream",
     "text": [
      "   Random value 2  Random value 3\n",
      "0        0.400157        0.978738\n",
      "1       -0.977278        0.950088\n",
      "2        0.410599        0.144044\n",
      "3        0.121675        0.443863\n"
     ]
    }
   ],
   "source": [
    "# With Location Method using loc\n",
    "df_loc_c = df.loc[:, ['Random value 2', 'Random value 3']]\n",
    "print(df_loc_c)\n"
   ]
  },
  {
   "cell_type": "code",
   "execution_count": 6,
   "id": "f62e1c40-cd4a-4971-b03f-c04ffc6f14a2",
   "metadata": {},
   "outputs": [
    {
     "name": "stdout",
     "output_type": "stream",
     "text": [
      "   Random value 2  Random value 3\n",
      "0        0.400157        0.978738\n",
      "1       -0.977278        0.950088\n",
      "2        0.410599        0.144044\n",
      "3        0.121675        0.443863\n"
     ]
    }
   ],
   "source": [
    "# With Index Method using iloc\n",
    "df_index_c= df.iloc[:, [1, 2]]\n",
    "print(df_index_c)\n"
   ]
  },
  {
   "cell_type": "code",
   "execution_count": null,
   "id": "abdc781c-9d56-4c73-a77c-474b9472025c",
   "metadata": {},
   "outputs": [],
   "source": []
  }
 ],
 "metadata": {
  "kernelspec": {
   "display_name": "Python 3 (ipykernel)",
   "language": "python",
   "name": "python3"
  },
  "language_info": {
   "codemirror_mode": {
    "name": "ipython",
    "version": 3
   },
   "file_extension": ".py",
   "mimetype": "text/x-python",
   "name": "python",
   "nbconvert_exporter": "python",
   "pygments_lexer": "ipython3",
   "version": "3.10.4"
  }
 },
 "nbformat": 4,
 "nbformat_minor": 5
}
